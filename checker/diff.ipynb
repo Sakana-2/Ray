{
 "cells": [
  {
   "cell_type": "code",
   "execution_count": null,
   "metadata": {},
   "outputs": [],
   "source": [
    "import cv2\n",
    "import numpy as np\n",
    "from PIL import Image\n",
    "from IPython.display import display\n",
    "\n",
    "invertion = cv2.imread(\"./build/Debug/render2.bmp\")\n",
    "rejection = cv2.imread(\"./build/Debug/render.bmp\")\n",
    "\n",
    "diff = np.abs(invertion.astype(np.int16) - rejection.astype(np.int16))\n",
    "cv2.imwrite(\"diff_b.bmp\", diff[:,:,0])\n",
    "cv2.imwrite(\"diff_g.bmp\", diff[:,:,1])\n",
    "cv2.imwrite(\"diff_r.bmp\", diff[:,:,2])"
   ]
  },
  {
   "cell_type": "code",
   "execution_count": null,
   "metadata": {},
   "outputs": [],
   "source": [
    "print(\"invertion b\")\n",
    "display(Image.fromarray(invertion[:,:,0]))\n",
    "print(\"rejection b\")\n",
    "display(Image.fromarray(rejection[:,:,0]))\n",
    "\n",
    "print(\"invertion g\")\n",
    "display(Image.fromarray(invertion[:,:,1]))\n",
    "print(\"rejection g\")\n",
    "display(Image.fromarray(rejection[:,:,1]))\n",
    "\n",
    "print(\"invertion r\")\n",
    "display(Image.fromarray(invertion[:,:,2]))\n",
    "print(\"rejection r\")\n",
    "display(Image.fromarray(rejection[:,:,2]))"
   ]
  }
 ],
 "metadata": {
  "kernelspec": {
   "display_name": "Python 3",
   "language": "python",
   "name": "python3"
  },
  "language_info": {
   "codemirror_mode": {
    "name": "ipython",
    "version": 3
   },
   "file_extension": ".py",
   "mimetype": "text/x-python",
   "name": "python",
   "nbconvert_exporter": "python",
   "pygments_lexer": "ipython3",
   "version": "3.11.2"
  }
 },
 "nbformat": 4,
 "nbformat_minor": 2
}
